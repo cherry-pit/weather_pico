{
 "cells": [
  {
   "cell_type": "code",
   "execution_count": null,
   "metadata": {},
   "outputs": [],
   "source": [
    "from network import WLAN, STA_IF\n",
    "from parameters import *\n",
    "from time import sleep\n",
    "wlan = WLAN(STA_IF)\n",
    "wlan.active(True)\n",
    "wlan.connect(WIFI_SSID, WIFI_PASSWORD)            \n",
    "while not wlan.isconnected():\n",
    "    sleep(4)\n"
   ]
  },
  {
   "cell_type": "code",
   "execution_count": 44,
   "metadata": {},
   "outputs": [
    {
     "data": {
      "text/plain": [
       "\"b'A'\""
      ]
     },
     "execution_count": 44,
     "metadata": {},
     "output_type": "execute_result"
    }
   ],
   "source": [
    "def limitedGetRequest(url, tagsToKeep=(), timeout=15):\n",
    "    \n",
    "    import ussl, usocket, gc\n",
    "\n",
    "    scheme, _, host, target = url.split(\"/\",3)\n",
    "\n",
    "    if scheme == \"https:\":\n",
    "        port = 443\n",
    "    elif scheme == \"http:\":\n",
    "        port = 80\n",
    "\n",
    "    ai = usocket.getaddrinfo(host, port, 0, usocket.SOCK_STREAM)[0]\n",
    "    s = usocket.socket(ai[0], usocket.SOCK_STREAM, ai[2])\n",
    "    s.settimeout(timeout) # time for connection to timeout in seconds\n",
    "    s.connect(ai[-1])\n",
    "    s = ussl.wrap_socket(s, server_hostname=host)\n",
    "    s.write(f\"GET /{target} HTTP/1.0\\r\\n\")\n",
    "    s.write(f\"Host: {host}\\r\\n\")\n",
    "    s.write(b\"User-agent: Mozilla/5.0\\r\\n\")\n",
    "    s.write(b\"Connection: close\\r\\n\\r\\n\")\n",
    "    \n",
    "    keptLines = []\n",
    "    strBuff = []\n",
    "    buildString = False\n",
    "    keepLine = False\n",
    "    while True:\n",
    "        \n",
    "        buff = s.read(512)\n",
    "        gc.collect()\n",
    "        \n",
    "        if buff != b\"\":\n",
    "            for x in buff:\n",
    "                \n",
    "                x = chr(x)\n",
    "\n",
    "                if buildString:\n",
    "                    strBuff.append(x)\n",
    "                \n",
    "                if x == \"<\" and not buildString:\n",
    "                    buildString = True\n",
    "                    strBuff.append(x)\n",
    "                \n",
    "                elif x == \">\" and buildString and not keepLine:\n",
    "                    bufferTagName = \"\".join(strBuff[ 1: -1 ]).split(\" \",1)[0]\n",
    "                    \n",
    "                    if any( tag in bufferTagName for tag in tagsToKeep ) and strBuff[1] != \"/\":\n",
    "                        keepLine = True\n",
    "                    else:\n",
    "                        buildString = False\n",
    "                        keepLine = False\n",
    "                        strBuff = []\n",
    "                    \n",
    "                elif x == \">\" and buildString and keepLine:\n",
    "                    closingTag = \"</\" + bufferTagName + \">\"\n",
    "                    _ = \"\".join(strBuff[-len(closingTag):])\n",
    "                    print(gc.mem_free(), closingTag, _)\n",
    "                    if \"\".join(strBuff[-len(closingTag):]) == closingTag:\n",
    "                        keptLines.append( \"\".join(strBuff) )\n",
    "                        buildString = False\n",
    "                        keepLine = False\n",
    "                        strBuff = []\n",
    "                    \n",
    "        else:\n",
    "            break\n",
    "\n",
    "    s.close()\n",
    "    \n",
    "    return (keptLines)\n",
    "\n",
    "from parameters import *\n",
    "\n",
    "\n",
    "url = f\"https://forecast.weather.gov/MapClick.php?lat={lat}&lon={long}&FcstType=digitalDWML\"\n",
    "print(url)\n",
    "tagsToKeep = [\"start-valid-time\", \"temperature\", \"probability-of-precipitation\", \"cloud-amount\"]\n",
    "print(limitedGetRequest(url, tagsToKeep, timeout=15))\n"
   ]
  },
  {
   "cell_type": "code",
   "execution_count": 95,
   "metadata": {},
   "outputs": [
    {
     "name": "stdout",
     "output_type": "stream",
     "text": [
      "<?xml version = '1.0' encoding = 'UTF-8' standalone = 'yes'?>\n",
      "<?xml-stylesheet href='capatom.xsl' type='text/xsl'?>\n",
      "\n",
      "<!--\n",
      "This atom/xml feed is an index to active advisories, watches and warnings \n",
      "issued by the National Weather Service.  This index file is not the complete \n",
      "Common Alerting Protocol (CAP) alert message.  To obtain the complete CAP \n",
      "alert, please follow the links for each entry in this index.  Also note the \n",
      "CAP message uses a style sheet to convey the information in a human readable \n",
      "format.  Please view the source of the CAP message to see the complete data \n",
      "set.  Not all information in the CAP message is contained in this index of \n",
      "active alerts.\n",
      "-->\n",
      "\n",
      "<feed\n",
      "xmlns = 'http://www.w3.org/2005/Atom'\n",
      "xmlns:cap = 'urn:oasis:names:tc:emergency:cap:1.1'\n",
      "xmlns:ha = 'http://www.alerting.net/namespace/index_1.0'\n",
      ">\n",
      "<!-- TZN = <CST> -->\n",
      "<!-- TZO = <-6> -->\n",
      "<!-- http-date = Sun, 28 Jan 2024 07:49:00 GMT -->\n",
      "<id>https://alerts.weather.gov/cap/wwaatmget.php?x=IAC113&amp;y=0</id>\n",
      "<generator>NWS CAP Server</generator>\n",
      "<updated>2024-01-28T13:49:00-06:00</updated>\n",
      "<author>\n",
      "<name>w-nws.webmaster@noaa.gov</name>\n",
      "</author>\n",
      "<title>Current Watches, Warnings and Advisories for Linn (IAC113) Iowa Issued by the National Weather Service</title>\n",
      "<link href=\"https://alerts.weather.gov/cap/wwaatmget.php?x=IAC113&amp;y=0\"/>\n",
      "<entry>\n",
      "<id>https://alerts.weather.gov/cap/wwacapget.php?x=IA126885A6B954.DenseFogAdvisory.126885B54C30IA.DVNNPWDVN.db4d561e4b87a3139d7fa7f917a68d34</id>\n",
      "<updated>2024-01-28T13:49:00-06:00</updated>\n",
      "<published>2024-01-28T13:49:00-06:00</published>\n",
      "<author>\n",
      "<name>w-nws.webmaster@noaa.gov</name>\n",
      "</author>\n",
      "<title>Dense Fog Advisory issued January 28 at 1:49PM CST until January 29 at 9:00AM CST by NWS</title>\n",
      "<link href=\"https://alerts.weather.gov/cap/wwacapget.php?x=IA126885A6B954.DenseFogAdvisory.126885B54C30IA.DVNNPWDVN.db4d561e4b87a3139d7fa7f917a68d34\"/>\n",
      "<summary>...DENSE FOG ADVISORY IN EFFECT FROM 9 PM THIS EVENING TO 9 AM CST MONDAY... * WHAT...Visibility one quarter mile or less in dense fog. * WHERE...Portions of east central, northeast, and southeast Iowa and northeast Missouri. * WHEN...From 9 PM this evening to 9 AM CST Monday.</summary>\n",
      "<cap:event>Dense Fog Advisory</cap:event>\n",
      "<cap:effective>2024-01-28T21:00:00-06:00</cap:effective>\n",
      "<cap:expires>2024-01-29T09:00:00-06:00</cap:expires>\n",
      "<cap:status>Actual</cap:status>\n",
      "<cap:msgType>Alert</cap:msgType>\n",
      "<cap:category>Met</cap:category>\n",
      "<cap:urgency>Expected</cap:urgency>\n",
      "<cap:severity>Minor</cap:severity>\n",
      "<cap:certainty>Likely</cap:certainty>\n",
      "<cap:areaDesc>Benton; Buchanan; Cedar; Clinton; Delaware; Dubuque; Henry; Iowa; Jackson; Jefferson; Johnson; Jones; Keokuk; Linn; Louisa; Muscatine; Van Buren; Washington</cap:areaDesc>\n",
      "<cap:polygon></cap:polygon>\n",
      "<cap:geocode>\n",
      "<valueName>FIPS6</valueName>\n",
      "<value>019011 019019 019031 019045 019055 019061 019087 019095 019097 019101 019103 019105 019107 019113 019115 019139 019177 019183</value>\n",
      "<valueName>UGC</valueName>\n",
      "<value>IAZ040 IAZ041 IAZ042 IAZ051 IAZ052 IAZ053 IAZ054 IAZ063 IAZ064 IAZ065 IAZ066 IAZ067 IAZ076 IAZ077 IAZ078 IAZ087 IAZ088 IAZ098</value>\n",
      "</cap:geocode>\n",
      "<cap:parameter>\n",
      "<valueName>VTEC</valueName>\n",
      "<value>/O.NEW.KDVN.FG.Y.0004.240129T0300Z-240129T1500Z/</value>\n",
      "</cap:parameter>\n",
      "</entry>\n",
      "</feed>\n"
     ]
    }
   ],
   "source": [
    "from requests import get \n",
    "\n",
    "response = get(f\"https://alerts.weather.gov/cap/wwaatmget.php?x=IAC113&y=1\")\n",
    "for x in response.text.split(\"\\n\"):\n",
    "    print(x)"
   ]
  },
  {
   "cell_type": "code",
   "execution_count": 96,
   "metadata": {},
   "outputs": [
    {
     "data": {
      "text/plain": [
       "<generator object <genexpr> at 0x00000259A8649B60>"
      ]
     },
     "execution_count": 96,
     "metadata": {},
     "output_type": "execute_result"
    }
   ],
   "source": [
    "(x for x in \"abc\")"
   ]
  },
  {
   "cell_type": "code",
   "execution_count": 8,
   "metadata": {},
   "outputs": [
    {
     "name": "stdout",
     "output_type": "stream",
     "text": [
      "NOW MODERATE LIKELY\n",
      "NOW EXTREME LIKELY\n",
      "*!!!!!*\n"
     ]
    }
   ],
   "source": [
    "cautionString = \"\"\n",
    "\n",
    "xmlWeatherAlerts = [\"NOW\", \"MODERATE\", \"LIKELY\", \"NOW\", \"EXTREME\", \"LIKELY\"]\n",
    "\n",
    "if len(xmlWeatherAlerts) > 2:\n",
    "    for n in range(0, len(xmlWeatherAlerts), 3):\n",
    "        urgency = xmlWeatherAlerts[n].upper()\n",
    "        severity = xmlWeatherAlerts[n+1].upper()\n",
    "        certainty = xmlWeatherAlerts[n+2].upper()\n",
    "        print(urgency, severity, certainty)\n",
    "        # Possible severities are \"MINOR\", \"MODERATE\", \"SEVERE\", \"EXTREME\"\n",
    "        if \"UNLIKELY\" not in certainty and \"PAST\" not in urgency:\n",
    "            if severity == \"MINOR\" and len(cautionString) < len(\"!\"):\n",
    "                cautionString = \"!\"\n",
    "            elif severity == \"MODERATE\" and len(cautionString) < len(\"!!\"):\n",
    "                cautionString = \"!!\"\n",
    "            elif severity == \"SEVERE\" and len(cautionString) < len(\"!!!\"):\n",
    "                cautionString = \"!!!\"\n",
    "            elif severity == \"EXTREME\" and len(cautionString) < len(\"*!!!!!*\"):\n",
    "                cautionString = \"*!!!!!*\"\n",
    "\n",
    "print(cautionString)"
   ]
  }
 ],
 "metadata": {
  "kernelspec": {
   "display_name": "Python 3",
   "language": "python",
   "name": "python3"
  },
  "language_info": {
   "codemirror_mode": {
    "name": "ipython",
    "version": 3
   },
   "file_extension": ".py",
   "mimetype": "text/x-python",
   "name": "python",
   "nbconvert_exporter": "python",
   "pygments_lexer": "ipython3",
   "version": "3.10.9"
  }
 },
 "nbformat": 4,
 "nbformat_minor": 2
}
