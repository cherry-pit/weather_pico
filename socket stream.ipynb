{
 "cells": [
  {
   "cell_type": "code",
   "execution_count": null,
   "metadata": {},
   "outputs": [],
   "source": [
    "from network import WLAN, STA_IF\n",
    "from parameters import *\n",
    "from time import sleep\n",
    "wlan = WLAN(STA_IF)\n",
    "wlan.active(True)\n",
    "wlan.connect(WIFI_SSID, WIFI_PASSWORD)            \n",
    "while not wlan.isconnected():\n",
    "    sleep(4)\n"
   ]
  },
  {
   "cell_type": "code",
   "execution_count": 44,
   "metadata": {},
   "outputs": [
    {
     "data": {
      "text/plain": [
       "\"b'A'\""
      ]
     },
     "execution_count": 44,
     "metadata": {},
     "output_type": "execute_result"
    }
   ],
   "source": [
    "def limitedGetRequest(url, tagsToKeep=(), timeout=15):\n",
    "    \n",
    "    import ussl, usocket\n",
    "\n",
    "    scheme, _, host, target = url.split(\"/\",3)\n",
    "\n",
    "    if scheme == \"https:\":\n",
    "        port = 443\n",
    "    elif scheme == \"http:\":\n",
    "        port = 80\n",
    "\n",
    "    ai = usocket.getaddrinfo(host, port, 0, usocket.SOCK_STREAM)[0]\n",
    "    s = usocket.socket(ai[0], usocket.SOCK_STREAM, ai[2])\n",
    "    s.settimeout(timeout) # time for connection to timeout in seconds\n",
    "    s.connect(ai[-1])\n",
    "    s = ussl.wrap_socket(s, server_hostname=host)\n",
    "    s.write(bytes(f\"GET /{target} HTTP/1.0\\r\\n\", \"utf-8\"))\n",
    "    s.write(bytes(f\"Host: {host}\\r\\n\", \"utf-8\"))\n",
    "    s.write(b\"User-agent: Mozilla/5.0\\r\\n\")\n",
    "    s.write(b\"Connection: close\\r\\n\\r\\n\")\n",
    "\n",
    "    keptLines = []\n",
    "    stringBuffer = \"\"\n",
    "    lineBuffer = []\n",
    "    buildBuffer = False\n",
    "    while True:\n",
    "        \n",
    "        x = s.read(1).decode()\n",
    "        if x == None or x == \"\":\n",
    "            break\n",
    "        \n",
    "        if buildBuffer:\n",
    "            stringBuffer += x\n",
    "\n",
    "        if not lineBuffer:\n",
    "            if x == \"<\" and not buildBuffer:\n",
    "                buildBuffer = True\n",
    "                stringBuffer += x\n",
    "            elif x == \">\" and buildBuffer:\n",
    "                buildBuffer = False\n",
    "                if any( tag in stringBuffer for tag in tagsToKeep ) and stringBuffer[1] != \"/\":\n",
    "                    buildBuffer = True\n",
    "                    lineBuffer.append(stringBuffer)\n",
    "                stringBuffer = \"\"\n",
    "\n",
    "        elif len(lineBuffer) == 1:\n",
    "            if stringBuffer[-2:] == \"</\":\n",
    "                lineBuffer.append(stringBuffer[:-2])\n",
    "                stringBuffer = \"</\"\n",
    "\n",
    "        elif len(lineBuffer) > 1:\n",
    "            if x == \">\":\n",
    "                if any( tag in stringBuffer for tag in tagsToKeep ) and stringBuffer == \"</\" + lineBuffer[0][1:]:\n",
    "                    lineBuffer.append(stringBuffer)\n",
    "                    keptLines.append(\"\".join(lineBuffer))\n",
    "                    buildBuffer == False\n",
    "                    stringBuffer = \"\"\n",
    "                    lineBuffer = []\n",
    "                else:\n",
    "                    buildBuffer == False\n",
    "                    stringBuffer = \"\"\n",
    "                    lineBuffer = []\n",
    "\n",
    "    return (keptLines)\n",
    "\n",
    "url = \"https://alerts.weather.gov/cap/wwaatmget.php?x=HIC009&y=1\"\n",
    "limitedGetRequest(url, tagsToKeep=[\"title\"], timeout=15)"
   ]
  },
  {
   "cell_type": "code",
   "execution_count": 56,
   "metadata": {},
   "outputs": [
    {
     "data": {
      "text/plain": [
       "True"
      ]
     },
     "execution_count": 56,
     "metadata": {},
     "output_type": "execute_result"
    }
   ],
   "source": [
    "tagsToKeep=(\"title\")\n",
    "stringBuffer = \"<?xml version = '1.0' encoding = 'UTF-8' standalone = 'yes'?>\"\n",
    "\n",
    "any( x in stringBuffer for x in tagsToKeep ) \n",
    "\n",
    "tagsToKeep[0] in stringBuffer"
   ]
  },
  {
   "cell_type": "code",
   "execution_count": 63,
   "metadata": {},
   "outputs": [
    {
     "data": {
      "text/plain": [
       "'title'"
      ]
     },
     "execution_count": 63,
     "metadata": {},
     "output_type": "execute_result"
    }
   ],
   "source": [
    "stringBuffer = \"title</\"\n",
    "stringBuffer[-2:] == \"</\"\n",
    "stringBuffer[:-2]"
   ]
  }
 ],
 "metadata": {
  "kernelspec": {
   "display_name": "Python 3",
   "language": "python",
   "name": "python3"
  },
  "language_info": {
   "codemirror_mode": {
    "name": "ipython",
    "version": 3
   },
   "file_extension": ".py",
   "mimetype": "text/x-python",
   "name": "python",
   "nbconvert_exporter": "python",
   "pygments_lexer": "ipython3",
   "version": "3.10.9"
  }
 },
 "nbformat": 4,
 "nbformat_minor": 2
}
