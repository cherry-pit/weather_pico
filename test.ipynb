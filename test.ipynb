{
 "cells": [
  {
   "cell_type": "code",
   "execution_count": null,
   "metadata": {},
   "outputs": [],
   "source": [
    "forecastList = \"C C C C C C C C\".split()\n",
    "currentHour = 18\n",
    "daySplitIndex = round( ( 24 - currentHour ) / 3 )\n",
    "noonSplitIndex = round( abs(currentHour-12) / 3 )\n",
    "\n",
    "print(noonSplitIndex, daySplitIndex)\n",
    "\n",
    "if noonSplitIndex < daySplitIndex:\n",
    "    forecastString = \\\n",
    "    ' '.join(forecastList[:noonSplitIndex]) + \".\" + \\\n",
    "    ' '.join(forecastList[noonSplitIndex:daySplitIndex]) + \"|\" + \\\n",
    "    ' '.join(forecastList[daySplitIndex:])\n",
    "else:\n",
    "    forecastString = \\\n",
    "    ' '.join(forecastList[:daySplitIndex]) + \"|\" + \\\n",
    "    ' '.join(forecastList[daySplitIndex:noonSplitIndex]) + \".\" + \\\n",
    "    ' '.join(forecastList[noonSplitIndex:])\n",
    "\n",
    "forecastString"
   ]
  }
 ],
 "metadata": {
  "language_info": {
   "name": "python"
  }
 },
 "nbformat": 4,
 "nbformat_minor": 2
}
