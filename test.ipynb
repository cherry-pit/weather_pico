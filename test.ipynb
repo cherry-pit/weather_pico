{
 "cells": [
  {
   "cell_type": "code",
   "execution_count": 61,
   "metadata": {},
   "outputs": [
    {
     "data": {
      "text/plain": [
       "'C|C C C C.C C C'"
      ]
     },
     "execution_count": 61,
     "metadata": {},
     "output_type": "execute_result"
    }
   ],
   "source": [
    "forecastList = \"C C C C C C C C\".split()\n",
    "currentHour = 20\n",
    "\n",
    "daySplitIndex = round( ( 24 - currentHour ) / 3 )\n",
    "\n",
    "if currentHour <= 12:\n",
    "    noonSplitIndex = round( ( 12 - currentHour ) / 3 )\n",
    "else:\n",
    "    noonSplitIndex = daySplitIndex + 4\n",
    "\n",
    "if noonSplitIndex < daySplitIndex:\n",
    "    forecastString = \\\n",
    "    ' '.join(forecastList[:noonSplitIndex]) + \".\" + \\\n",
    "    ' '.join(forecastList[noonSplitIndex:daySplitIndex]) + \"|\" + \\\n",
    "    ' '.join(forecastList[daySplitIndex:])\n",
    "else:\n",
    "    forecastString = \\\n",
    "    ' '.join(forecastList[:daySplitIndex]) + \"|\" + \\\n",
    "    ' '.join(forecastList[daySplitIndex:noonSplitIndex]) + \".\" + \\\n",
    "    ' '.join(forecastList[noonSplitIndex:])\n",
    "\n",
    "forecastString"
   ]
  },
  {
   "cell_type": "code",
   "execution_count": null,
   "metadata": {},
   "outputs": [],
   "source": []
  }
 ],
 "metadata": {
  "kernelspec": {
   "display_name": "Python 3",
   "language": "python",
   "name": "python3"
  },
  "language_info": {
   "codemirror_mode": {
    "name": "ipython",
    "version": 3
   },
   "file_extension": ".py",
   "mimetype": "text/x-python",
   "name": "python",
   "nbconvert_exporter": "python",
   "pygments_lexer": "ipython3",
   "version": "3.9.2"
  }
 },
 "nbformat": 4,
 "nbformat_minor": 2
}
